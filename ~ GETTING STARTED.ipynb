{
 "cells": [
  {
   "cell_type": "markdown",
   "metadata": {},
   "source": [
    "# Exploring your Home Assistant data\n",
    "\n",
    "The goal of this page is to get you familiar with the data in your Home Assistant instance. The page you're reading right now is a Jupyter Notebook. These documents contain instructions for the user and embedded Python code to generate graphs and tables of your data. It's interactive so you can at any time change the code of any example and just press the ▶️ button to update the example with your changes! \n",
    "\n",
    "To get started, let's execute all examples on this page: in the menu at the top left, click on \"Run\" -> \"Run All Cells\"."
   ]
  },
  {
   "cell_type": "code",
   "execution_count": 1,
   "metadata": {},
   "outputs": [
    {
     "name": "stdout",
     "output_type": "stream",
     "text": [
      "Successfully connected to database\n",
      "There are 75 entities with data\n"
     ]
    }
   ],
   "source": [
    "from detective.core import db_from_hass_config\n",
    "db = db_from_hass_config()"
   ]
  },
  {
   "cell_type": "markdown",
   "metadata": {},
   "source": [
    "## Popular entities\n",
    "\n",
    "In the following example, we're going to explore your most popular entities and break it down per period of the day (morning/afternoon/evening/night).\n",
    "\n",
    "We will do this by looking at which services are getting called and which entities they targeted. To make the results more relevant, we will filter out any service call that happened because of another service call. So if a user turns on a script which turns on a light, we only count the interaction with the script and not with the light."
   ]
  },
  {
   "cell_type": "code",
   "execution_count": 2,
   "metadata": {},
   "outputs": [
    {
     "name": "stdout",
     "output_type": "stream",
     "text": [
      "Most popular entities to interact with:\n",
      "morning: light.kitchen, image_processing.clarifai_live_view, remote.living_room_8\n",
      "daytime: media_player.living_room_6, remote.living_room_5\n",
      "evening: light.kitchen, image_processing.clarifai_live_view\n",
      "night: light.kitchen, light.hue_white_lamp_2\n",
      "CPU times: user 111 ms, sys: 38.9 ms, total: 150 ms\n",
      "Wall time: 518 ms\n"
     ]
    }
   ],
   "source": [
    "%%time\n",
    "from collections import Counter, OrderedDict\n",
    "import json\n",
    "\n",
    "from detective.time import time_category, sqlalch_datetime, localize, TIME_CATEGORIES\n",
    "\n",
    "# Prepare a dictionary to track results\n",
    "results = OrderedDict((time_cat, Counter()) for time_cat in TIME_CATEGORIES)\n",
    "\n",
    "# We keep track of contexts that we processed so that we will only process\n",
    "# the first service call in a context, and not subsequent calls.\n",
    "context_processed = set()\n",
    "\n",
    "for event in db.perform_query(\"SELECT * FROM events WHERE event_type = 'call_service' ORDER BY time_fired\"):\n",
    "    entity_ids = None\n",
    "\n",
    "    # Skip if we have already processed an event that was part of this context\n",
    "    if event.context_id in context_processed:\n",
    "        continue\n",
    "\n",
    "    try:\n",
    "        event_data = json.loads(event.event_data)\n",
    "    except ValueError:\n",
    "        continue\n",
    "\n",
    "    # Empty event data, skipping (shouldn't happen, but to be safe)\n",
    "    if not event_data:\n",
    "        continue\n",
    "\n",
    "    service_data = event_data.get('service_data')\n",
    "\n",
    "    # No service data found, skipping\n",
    "    if not service_data:\n",
    "        continue\n",
    "\n",
    "    entity_ids = service_data.get('entity_id')\n",
    "\n",
    "    # No entitiy IDs found, skip this event\n",
    "    if entity_ids is None:\n",
    "        continue\n",
    "\n",
    "    if not isinstance(entity_ids, list):\n",
    "        entity_ids = [entity_ids]\n",
    "\n",
    "    context_processed.add(event.context_id)\n",
    "\n",
    "    period = time_category(\n",
    "        localize(sqlalch_datetime(event.time_fired)))\n",
    "\n",
    "    for entity_id in entity_ids:\n",
    "        results[period][entity_id] += 1\n",
    "\n",
    "# TODO: convert to nice Pandas DataFrame\n",
    "print(\"Most popular entities to interact with:\")\n",
    "\n",
    "for period, period_results in results.items():\n",
    "    entities = [ent_id for (ent_id, count) in period_results.most_common(5)]\n",
    "    result = ', '.join(entities) if entities else '-'\n",
    "    print(f\"{period}: {result}\")\n"
   ]
  },
  {
   "cell_type": "markdown",
   "metadata": {},
   "source": [
    "We now use pandas to visualise the results"
   ]
  },
  {
   "cell_type": "code",
   "execution_count": 3,
   "metadata": {},
   "outputs": [],
   "source": [
    "import pandas as pd"
   ]
  },
  {
   "cell_type": "code",
   "execution_count": 4,
   "metadata": {},
   "outputs": [],
   "source": [
    "df = pd.DataFrame.from_dict(results)"
   ]
  },
  {
   "cell_type": "code",
   "execution_count": 5,
   "metadata": {},
   "outputs": [
    {
     "data": {
      "text/html": [
       "<div>\n",
       "<style scoped>\n",
       "    .dataframe tbody tr th:only-of-type {\n",
       "        vertical-align: middle;\n",
       "    }\n",
       "\n",
       "    .dataframe tbody tr th {\n",
       "        vertical-align: top;\n",
       "    }\n",
       "\n",
       "    .dataframe thead th {\n",
       "        text-align: right;\n",
       "    }\n",
       "</style>\n",
       "<table border=\"1\" class=\"dataframe\">\n",
       "  <thead>\n",
       "    <tr style=\"text-align: right;\">\n",
       "      <th></th>\n",
       "      <th>morning</th>\n",
       "      <th>daytime</th>\n",
       "      <th>evening</th>\n",
       "      <th>night</th>\n",
       "    </tr>\n",
       "  </thead>\n",
       "  <tbody>\n",
       "    <tr>\n",
       "      <th>image_processing.clarifai_live_view</th>\n",
       "      <td>5.0</td>\n",
       "      <td>NaN</td>\n",
       "      <td>2.0</td>\n",
       "      <td>NaN</td>\n",
       "    </tr>\n",
       "    <tr>\n",
       "      <th>light.hue_white_lamp_2</th>\n",
       "      <td>NaN</td>\n",
       "      <td>NaN</td>\n",
       "      <td>NaN</td>\n",
       "      <td>2.0</td>\n",
       "    </tr>\n",
       "    <tr>\n",
       "      <th>light.kitchen</th>\n",
       "      <td>9.0</td>\n",
       "      <td>NaN</td>\n",
       "      <td>4.0</td>\n",
       "      <td>14.0</td>\n",
       "    </tr>\n",
       "    <tr>\n",
       "      <th>media_player.living_room_6</th>\n",
       "      <td>NaN</td>\n",
       "      <td>1.0</td>\n",
       "      <td>NaN</td>\n",
       "      <td>NaN</td>\n",
       "    </tr>\n",
       "    <tr>\n",
       "      <th>remote.living_room_5</th>\n",
       "      <td>NaN</td>\n",
       "      <td>1.0</td>\n",
       "      <td>NaN</td>\n",
       "      <td>NaN</td>\n",
       "    </tr>\n",
       "    <tr>\n",
       "      <th>remote.living_room_8</th>\n",
       "      <td>4.0</td>\n",
       "      <td>NaN</td>\n",
       "      <td>NaN</td>\n",
       "      <td>NaN</td>\n",
       "    </tr>\n",
       "  </tbody>\n",
       "</table>\n",
       "</div>"
      ],
      "text/plain": [
       "                                     morning  daytime  evening  night\n",
       "image_processing.clarifai_live_view      5.0      NaN      2.0    NaN\n",
       "light.hue_white_lamp_2                   NaN      NaN      NaN    2.0\n",
       "light.kitchen                            9.0      NaN      4.0   14.0\n",
       "media_player.living_room_6               NaN      1.0      NaN    NaN\n",
       "remote.living_room_5                     NaN      1.0      NaN    NaN\n",
       "remote.living_room_8                     4.0      NaN      NaN    NaN"
      ]
     },
     "execution_count": 5,
     "metadata": {},
     "output_type": "execute_result"
    }
   ],
   "source": [
    "df"
   ]
  },
  {
   "cell_type": "markdown",
   "metadata": {},
   "source": [
    "## View states\n",
    "Detective makes it easy to view your state data as a pandas dataframe."
   ]
  },
  {
   "cell_type": "code",
   "execution_count": 6,
   "metadata": {},
   "outputs": [
    {
     "name": "stdout",
     "output_type": "stream",
     "text": [
      "Querying the database, this could take a while\n",
      "master_df created successfully.\n",
      "CPU times: user 8.51 s, sys: 1 s, total: 9.51 s\n",
      "Wall time: 18 s\n"
     ]
    }
   ],
   "source": [
    "%%time\n",
    "db.fetch_all_data()"
   ]
  },
  {
   "cell_type": "markdown",
   "metadata": {},
   "source": [
    "We now have the raw data in a Pandas dataframe on the `master_df` attribute of our `db` objecy. We must use another class to process this data into a format suitable for plotting. Detective provides helper classes for working with numerical senor data and binary sensor data. \n",
    "\n",
    "Lets first assert that you have data in each class:"
   ]
  },
  {
   "cell_type": "code",
   "execution_count": 7,
   "metadata": {},
   "outputs": [],
   "source": [
    "assert 'binary_sensor' and 'sensor' in db.domains"
   ]
  },
  {
   "cell_type": "markdown",
   "metadata": {},
   "source": [
    "If you received an `AssertionError` on the above cell, some of the following may not work for you.\n",
    "\n",
    "Assuming no error was raised, lets splot some numerical sensor data"
   ]
  },
  {
   "cell_type": "code",
   "execution_count": 8,
   "metadata": {},
   "outputs": [
    {
     "data": {
      "text/plain": [
       "['sensor.serial_sensor',\n",
       " 'sensor.pressure',\n",
       " 'sensor.temperature',\n",
       " 'sensor.particles_03um',\n",
       " 'sensor.particles_05um',\n",
       " 'sensor.particles_10um',\n",
       " 'sensor.particles_25um',\n",
       " 'sensor.mqtt_sensor',\n",
       " 'sensor.particles_50um',\n",
       " 'sensor.humidity',\n",
       " 'sensor.yr_symbol',\n",
       " 'sensor.particles_100um',\n",
       " 'sensor.robins_iphone_battery_level',\n",
       " 'sensor.robins_iphone_battery_state']"
      ]
     },
     "execution_count": 8,
     "metadata": {},
     "output_type": "execute_result"
    }
   ],
   "source": [
    "db.entities['sensor']"
   ]
  },
  {
   "cell_type": "code",
   "execution_count": 9,
   "metadata": {},
   "outputs": [],
   "source": [
    "from detective.core import NumericalSensors\n",
    "numerical_sensors = NumericalSensors(db.master_df)"
   ]
  },
  {
   "cell_type": "markdown",
   "metadata": {},
   "source": [
    "You can quickly see what numerical entities are available:"
   ]
  },
  {
   "cell_type": "code",
   "execution_count": 10,
   "metadata": {},
   "outputs": [
    {
     "data": {
      "text/plain": [
       "['sensor.yr_symbol',\n",
       " 'sensor.humidity',\n",
       " 'sensor.temperature',\n",
       " 'sensor.pressure',\n",
       " 'sensor.robins_iphone_battery_level',\n",
       " 'sensor.particles_03um',\n",
       " 'sensor.particles_05um',\n",
       " 'sensor.particles_10um',\n",
       " 'sensor.particles_25um',\n",
       " 'sensor.particles_50um',\n",
       " 'sensor.particles_100um']"
      ]
     },
     "execution_count": 10,
     "metadata": {},
     "output_type": "execute_result"
    }
   ],
   "source": [
    "numerical_sensors.entities"
   ]
  },
  {
   "cell_type": "markdown",
   "metadata": {},
   "source": [
    "We can access the numerical data as a pandas dataframe on the `data` attribute and print out the first couple of rows of data"
   ]
  },
  {
   "cell_type": "code",
   "execution_count": 11,
   "metadata": {},
   "outputs": [
    {
     "data": {
      "text/html": [
       "<div>\n",
       "<style scoped>\n",
       "    .dataframe tbody tr th:only-of-type {\n",
       "        vertical-align: middle;\n",
       "    }\n",
       "\n",
       "    .dataframe tbody tr th {\n",
       "        vertical-align: top;\n",
       "    }\n",
       "\n",
       "    .dataframe thead th {\n",
       "        text-align: right;\n",
       "    }\n",
       "</style>\n",
       "<table border=\"1\" class=\"dataframe\">\n",
       "  <thead>\n",
       "    <tr style=\"text-align: right;\">\n",
       "      <th>entity</th>\n",
       "      <th>sensor.humidity</th>\n",
       "      <th>sensor.particles_03um</th>\n",
       "      <th>sensor.particles_05um</th>\n",
       "      <th>sensor.particles_100um</th>\n",
       "      <th>sensor.particles_10um</th>\n",
       "      <th>sensor.particles_25um</th>\n",
       "      <th>sensor.particles_50um</th>\n",
       "      <th>sensor.pressure</th>\n",
       "      <th>sensor.robins_iphone_battery_level</th>\n",
       "      <th>sensor.temperature</th>\n",
       "      <th>sensor.yr_symbol</th>\n",
       "    </tr>\n",
       "    <tr>\n",
       "      <th>last_changed</th>\n",
       "      <th></th>\n",
       "      <th></th>\n",
       "      <th></th>\n",
       "      <th></th>\n",
       "      <th></th>\n",
       "      <th></th>\n",
       "      <th></th>\n",
       "      <th></th>\n",
       "      <th></th>\n",
       "      <th></th>\n",
       "      <th></th>\n",
       "    </tr>\n",
       "  </thead>\n",
       "  <tbody>\n",
       "    <tr>\n",
       "      <th>2018-11-09 07:33:10.525785</th>\n",
       "      <td>72.4</td>\n",
       "      <td>1608.0</td>\n",
       "      <td>443.0</td>\n",
       "      <td>0.0</td>\n",
       "      <td>59.0</td>\n",
       "      <td>1.0</td>\n",
       "      <td>0.0</td>\n",
       "      <td>1003.5</td>\n",
       "      <td>100.0</td>\n",
       "      <td>22.8</td>\n",
       "      <td>4.0</td>\n",
       "    </tr>\n",
       "    <tr>\n",
       "      <th>2018-11-09 07:33:11.402998</th>\n",
       "      <td>72.4</td>\n",
       "      <td>1617.0</td>\n",
       "      <td>443.0</td>\n",
       "      <td>0.0</td>\n",
       "      <td>59.0</td>\n",
       "      <td>1.0</td>\n",
       "      <td>0.0</td>\n",
       "      <td>1003.5</td>\n",
       "      <td>100.0</td>\n",
       "      <td>22.8</td>\n",
       "      <td>4.0</td>\n",
       "    </tr>\n",
       "    <tr>\n",
       "      <th>2018-11-09 07:33:11.404225</th>\n",
       "      <td>72.4</td>\n",
       "      <td>1617.0</td>\n",
       "      <td>453.0</td>\n",
       "      <td>0.0</td>\n",
       "      <td>59.0</td>\n",
       "      <td>1.0</td>\n",
       "      <td>0.0</td>\n",
       "      <td>1003.5</td>\n",
       "      <td>100.0</td>\n",
       "      <td>22.8</td>\n",
       "      <td>4.0</td>\n",
       "    </tr>\n",
       "    <tr>\n",
       "      <th>2018-11-09 07:33:11.406182</th>\n",
       "      <td>72.4</td>\n",
       "      <td>1617.0</td>\n",
       "      <td>453.0</td>\n",
       "      <td>0.0</td>\n",
       "      <td>62.0</td>\n",
       "      <td>1.0</td>\n",
       "      <td>0.0</td>\n",
       "      <td>1003.5</td>\n",
       "      <td>100.0</td>\n",
       "      <td>22.8</td>\n",
       "      <td>4.0</td>\n",
       "    </tr>\n",
       "    <tr>\n",
       "      <th>2018-11-09 07:33:12.291884</th>\n",
       "      <td>72.4</td>\n",
       "      <td>1623.0</td>\n",
       "      <td>453.0</td>\n",
       "      <td>0.0</td>\n",
       "      <td>62.0</td>\n",
       "      <td>1.0</td>\n",
       "      <td>0.0</td>\n",
       "      <td>1003.5</td>\n",
       "      <td>100.0</td>\n",
       "      <td>22.8</td>\n",
       "      <td>4.0</td>\n",
       "    </tr>\n",
       "  </tbody>\n",
       "</table>\n",
       "</div>"
      ],
      "text/plain": [
       "entity                      sensor.humidity  sensor.particles_03um  \\\n",
       "last_changed                                                         \n",
       "2018-11-09 07:33:10.525785             72.4                 1608.0   \n",
       "2018-11-09 07:33:11.402998             72.4                 1617.0   \n",
       "2018-11-09 07:33:11.404225             72.4                 1617.0   \n",
       "2018-11-09 07:33:11.406182             72.4                 1617.0   \n",
       "2018-11-09 07:33:12.291884             72.4                 1623.0   \n",
       "\n",
       "entity                      sensor.particles_05um  sensor.particles_100um  \\\n",
       "last_changed                                                                \n",
       "2018-11-09 07:33:10.525785                  443.0                     0.0   \n",
       "2018-11-09 07:33:11.402998                  443.0                     0.0   \n",
       "2018-11-09 07:33:11.404225                  453.0                     0.0   \n",
       "2018-11-09 07:33:11.406182                  453.0                     0.0   \n",
       "2018-11-09 07:33:12.291884                  453.0                     0.0   \n",
       "\n",
       "entity                      sensor.particles_10um  sensor.particles_25um  \\\n",
       "last_changed                                                               \n",
       "2018-11-09 07:33:10.525785                   59.0                    1.0   \n",
       "2018-11-09 07:33:11.402998                   59.0                    1.0   \n",
       "2018-11-09 07:33:11.404225                   59.0                    1.0   \n",
       "2018-11-09 07:33:11.406182                   62.0                    1.0   \n",
       "2018-11-09 07:33:12.291884                   62.0                    1.0   \n",
       "\n",
       "entity                      sensor.particles_50um  sensor.pressure  \\\n",
       "last_changed                                                         \n",
       "2018-11-09 07:33:10.525785                    0.0           1003.5   \n",
       "2018-11-09 07:33:11.402998                    0.0           1003.5   \n",
       "2018-11-09 07:33:11.404225                    0.0           1003.5   \n",
       "2018-11-09 07:33:11.406182                    0.0           1003.5   \n",
       "2018-11-09 07:33:12.291884                    0.0           1003.5   \n",
       "\n",
       "entity                      sensor.robins_iphone_battery_level  \\\n",
       "last_changed                                                     \n",
       "2018-11-09 07:33:10.525785                               100.0   \n",
       "2018-11-09 07:33:11.402998                               100.0   \n",
       "2018-11-09 07:33:11.404225                               100.0   \n",
       "2018-11-09 07:33:11.406182                               100.0   \n",
       "2018-11-09 07:33:12.291884                               100.0   \n",
       "\n",
       "entity                      sensor.temperature  sensor.yr_symbol  \n",
       "last_changed                                                      \n",
       "2018-11-09 07:33:10.525785                22.8               4.0  \n",
       "2018-11-09 07:33:11.402998                22.8               4.0  \n",
       "2018-11-09 07:33:11.404225                22.8               4.0  \n",
       "2018-11-09 07:33:11.406182                22.8               4.0  \n",
       "2018-11-09 07:33:12.291884                22.8               4.0  "
      ]
     },
     "execution_count": 11,
     "metadata": {},
     "output_type": "execute_result"
    }
   ],
   "source": [
    "numerical_sensors.data.head()"
   ]
  },
  {
   "cell_type": "markdown",
   "metadata": {},
   "source": [
    "Lets plot a random numerical sensor"
   ]
  },
  {
   "cell_type": "code",
   "execution_count": 12,
   "metadata": {},
   "outputs": [],
   "source": [
    "import random"
   ]
  },
  {
   "cell_type": "code",
   "execution_count": 13,
   "metadata": {},
   "outputs": [
    {
     "data": {
      "image/png": "[encoded data removed]",
      "text/plain": [
       "<Figure size 864x432 with 1 Axes>"
      ]
     },
     "metadata": {
      "needs_background": "light"
     },
     "output_type": "display_data"
    }
   ],
   "source": [
    "numerical_sensors.plot(random.choice(numerical_sensors.entities))"
   ]
  },
  {
   "cell_type": "markdown",
   "metadata": {},
   "source": [
    "Lets now plot data of a binary sensor:"
   ]
  },
  {
   "cell_type": "code",
   "execution_count": 14,
   "metadata": {},
   "outputs": [
    {
     "name": "stderr",
     "output_type": "stream",
     "text": [
      "/usr/local/lib/python3.6/dist-packages/detective/core.py:279: SettingWithCopyWarning: \n",
      "A value is trying to be set on a copy of a slice from a DataFrame.\n",
      "Try using .loc[row_indexer,col_indexer] = value instead\n",
      "\n",
      "See the caveats in the documentation: http://pandas.pydata.org/pandas-docs/stable/indexing.html#indexing-view-versus-copy\n",
      "  lambda x: functions.binary_state(x))\n"
     ]
    }
   ],
   "source": [
    "from detective.core import BinarySensors\n",
    "binary_sensors = BinarySensors(db.master_df)"
   ]
  },
  {
   "cell_type": "code",
   "execution_count": 15,
   "metadata": {},
   "outputs": [
    {
     "data": {
      "text/plain": [
       "['binary_sensor.button_a', 'binary_sensor.button_b']"
      ]
     },
     "execution_count": 15,
     "metadata": {},
     "output_type": "execute_result"
    }
   ],
   "source": [
    "binary_sensors.entities"
   ]
  },
  {
   "cell_type": "code",
   "execution_count": 16,
   "metadata": {},
   "outputs": [
    {
     "data": {
      "image/png": "[encoded data removed]",
      "text/plain": [
       "<Figure size 1152x144 with 1 Axes>"
      ]
     },
     "metadata": {
      "needs_background": "light"
     },
     "output_type": "display_data"
    }
   ],
   "source": [
    "binary_sensors.plot(random.choice(binary_sensors.entities))"
   ]
  },
  {
   "cell_type": "markdown",
   "metadata": {},
   "source": [
    "That concludes our introduction to getting started with Home Assistant data."
   ]
  },
  {
   "cell_type": "code",
   "execution_count": null,
   "metadata": {},
   "outputs": [],
   "source": []
  }
 ],
 "metadata": {
  "kernelspec": {
   "display_name": "Python 3",
   "language": "python",
   "name": "python3"
  },
  "language_info": {
   "codemirror_mode": {
    "name": "ipython",
    "version": 3
   },
   "file_extension": ".py",
   "mimetype": "text/x-python",
   "name": "python",
   "nbconvert_exporter": "python",
   "pygments_lexer": "ipython3",
   "version": "3.6.7"
  }
 },
 "nbformat": 4,
 "nbformat_minor": 2
}
