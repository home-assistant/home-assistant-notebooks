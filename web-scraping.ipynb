{
 "cells": [
  {
   "cell_type": "markdown",
   "metadata": {},
   "source": [
    "## Web scraping\n",
    "To get values from websites which don't provide an API is often only through scraping. It can be very tricky to get to the right values but this example here should help you to get started. This is very similar to the work-flow the [`scrap` sensor](https://home-assistant.io/components/sensor.scrap/) using."
   ]
  },
  {
   "cell_type": "markdown",
   "metadata": {},
   "source": [
    "### Get the value"
   ]
  },
  {
   "cell_type": "markdown",
   "metadata": {},
   "source": [
    "Importing the needed modules."
   ]
  },
  {
   "cell_type": "code",
   "execution_count": 63,
   "metadata": {
    "collapsed": false
   },
   "outputs": [],
   "source": [
    "import requests\n",
    "import xmltodict\n",
    "from bs4 import BeautifulSoup"
   ]
  },
  {
   "cell_type": "markdown",
   "metadata": {},
   "source": [
    "The URL to scrap the data from. We want to see how many user in our [Gitter chatroom](https://gitter.im/home-assistant/home-assistant) are."
   ]
  },
  {
   "cell_type": "code",
   "execution_count": 64,
   "metadata": {
    "collapsed": true
   },
   "outputs": [],
   "source": [
    "URL = 'https://gitter.im/home-assistant/home-assistant'"
   ]
  },
  {
   "cell_type": "code",
   "execution_count": 65,
   "metadata": {
    "collapsed": false
   },
   "outputs": [],
   "source": [
    "raw_html = requests.get(URL).text\n",
    "raw_data = BeautifulSoup(raw_html, 'html.parser')\n",
    "data = xmltodict.parse(raw_data.find('body').prettify())"
   ]
  },
  {
   "cell_type": "markdown",
   "metadata": {},
   "source": [
    "Now you have the complete content inside `<body>...</body>`."
   ]
  },
  {
   "cell_type": "code",
   "execution_count": 66,
   "metadata": {
    "collapsed": false
   },
   "outputs": [
    {
     "name": "stdout",
     "output_type": "stream",
     "text": [
      "OrderedDict([('body', OrderedDict([('@class', 'logged-out'), ('div', OrderedDict([('@class', 'app-layout'), ('div', [OrderedDict([('@class', 'nli-menu__logo'), ('div', OrderedDict([('@class', 'logo-holder logo-animation'), ('div', [OrderedDict([('@class', 'logo-left-arm logo-animation')]), OrderedDict([('@class', 'logo-body-left logo-animation')]), OrderedDict([('@class', 'logo-body-right logo-animation')]), OrderedDict([('@class', 'logo-right-arm logo-animation')])])])), ('img', OrderedDict([('@class', 'nli-menu__logo-text'), ('@src', '//cdn03.gitter.im/_s/8fb437e/images/gitter-vector-logo.svg')]))]), OrderedDict([('@class', 'iframe-region'), ('@id', 'iframe-region'), ('iframe', OrderedDict([('@frameborder', '0'), ('@id', 'content-frame'), ('@src', '/home-assistant/home-assistant/~chat#initial'), ('@style', 'display: block; width: 100%; height: 100%; border: 0;')]))])]), ('nav', OrderedDict([('@class', 'nli-menu'), ('h1', OrderedDict([('@class', 'nli-menu__header'), ('#text', 'Where communities thrive')])), ('h2', OrderedDict([('@class', 'nli-menu__features-header'), ('#text', 'Free for communities')])), ('dl', [OrderedDict([('@class', 'nli-menu__features'), ('dd', [OrderedDict([('strong', '500k people'), ('#text', 'Join over')]), OrderedDict([('strong', '50k communities'), ('#text', 'Join over')]), OrderedDict([('strong', 'your own community'), ('#text', 'Create')])])]), OrderedDict([('@class', 'nli-menu__features'), ('dd', OrderedDict([('a', OrderedDict([('@href', '/explore'), ('#text', 'Explore more communities')]))]))])]), ('small', OrderedDict([('@class', 'nli-menu__footer'), ('a', [OrderedDict([('@href', '/apps'), ('#text', 'Desktop')]), OrderedDict([('@href', '/apps'), ('#text', 'Mobile')])]), ('#text', 'Browser,\\n    \\n    and\\n    \\n    Apps.')]))]))])), ('script', [OrderedDict([('@type', 'text/javascript'), ('#text', 'window.gitterClientEnv = {\"lang\":\"en\",\"domain\":\"gitter.im\",\"baseServer\":\"gitter.im\",\"basePath\":\"https://gitter.im\",\"apiBasePath\":\"https://gitter.im/api\",\"homeUrl\":\"/\",\"badgeBaseUrl\":\"https://badges.gitter.im\",\"mixpanelToken\":\"d43f5f0ef2f5e96d90325f539fc61337\",\"googleTrackingId\":\"UA-45918290-1\",\"googleTrackingDomain\":\"gitter.im\",\"goSquaredTrackingId\":\"GSN-457403-A\",\"env\":\"prod\",\"cdns\":[\"cdn01.gitter.im\",\"cdn02.gitter.im\",\"cdn03.gitter.im\"],\"version\":\"8fb437\",\"assetTag\":\"8fb437e\",\"logging\":false,\"ravenUrl\":\"https://0f50f03f994740328ab6a67c82395948@app.getsentry.com/19257\",\"websockets\":{\"fayeUrl\":\"https://ws.gitter.im/bayeux\",\"options\":{\"timeout\":120,\"retry\":2}},\"avatarsUrl\":\"https://avatars.gitter.im\",\"avatarCdns\":[\"https://avatars-01.gitter.im\",\"https://avatars-02.gitter.im\",\"https://avatars-03.gitter.im\",\"https://avatars-04.gitter.im\",\"https://avatars-05.gitter.im\"],\"embed\":{\"basepath\":\"https://embed.gitter.im\",\"cacheBuster\":\"1\"},\"billingUrl\":\"http://billing.gitter.im\",\"maxFreeOrgRoomMembers\":25};window.troupeContext = {\"accessToken\":\"$To6vjHwbp081pAfVP6d80Mqz1haFaq/EFu2E6H5OnV4=\",\"isNativeDesktopApp\":false,\"locale\":{\"%d unread message\":{\"one\":\"%d unread message\",\"other\":\"%d unread messages\"},\"Unread messages in %%s, %%s and one other\":{\"one\":\"Unread messages in %%s, %%s and one other\",\"other\":\"Unread messages in %%s, %%s and %d others\"},\"Unread messages in %s\":\"Unread messages in %s\",\"Unread messages in %s and %s\":\"Unread messages in %s and %s\",\"Unread messages from %s\":\"Unread messages from %s\",\"Unread messages from %s and %s\":\"Unread messages from %s and %s\",\"Unread messages from %%s, %%s and one other\":{\"one\":\"Unread messages from %%s, %%s and one other\",\"other\":\"Unread messages from %%s, %%s and %d others\"}},\"features\":[],\"roomMember\":false,\"user\":null,\"troupe\":{\"id\":\"5587be0115522ed4b3e25a5f\",\"name\":\"home-assistant/home-assistant\",\"topic\":\"Sharing logs: http://hastebin.com -- Check config: hass --script check_config\",\"avatarUrl\":\"https://avatars-02.gitter.im/group/iv/3/57542c47c43b8c6019771ad3\",\"uri\":\"home-assistant/home-assistant\",\"userCount\":1617,\"url\":\"/home-assistant/home-assistant\",\"githubType\":\"REPO\",\"associatedRepo\":\"home-assistant/home-assistant\",\"security\":\"PUBLIC\",\"noindex\":false,\"groupId\":\"57542c47c43b8c6019771ad3\",\"group\":{\"id\":\"57542c47c43b8c6019771ad3\",\"name\":\"home-assistant\",\"uri\":\"home-assistant\",\"backedBy\":{\"type\":\"GH_ORG\",\"linkPath\":\"home-assistant\"},\"avatarUrl\":\"https://avatars-02.gitter.im/group/iv/3/57542c47c43b8c6019771ad3\"},\"backend\":{\"type\":\"GH_REPO\",\"linkPath\":\"home-assistant/home-assistant\"},\"public\":true,\"v\":28},\"suggestedRoomsHidden\":null,\"leftRoomMenuState\":null,\"snapshots\":{\"leftMenu\":{\"roomMenuIsPinned\":true,\"state\":\"temp-org\",\"tempOrg\":{\"name\":\"home-assistant\",\"avatarUrl\":\"https://avatars-02.gitter.im/group/i/57542c47c43b8c6019771ad3\",\"type\":\"org\",\"active\":true,\"hidden\":false},\"groupId\":\"\"},\"allRooms\":[],\"rooms\":[],\"favourites\":[],\"groups\":[],\"forum\":false}};')]), OrderedDict([('@type', 'text/javascript'), ('#text', \"window.webpackPublicPath = '//cdn02.gitter.im/_s/8fb437e/js/';\")]), OrderedDict([('@src', '//cdn02.gitter.im/_s/8fb437e/js/vendor.js'), ('@type', 'text/javascript')]), OrderedDict([('@src', '//cdn03.gitter.im/_s/8fb437e/js/router-nli-app.js'), ('@type', 'text/javascript')])])]))])\n"
     ]
    }
   ],
   "source": [
    "print(data)"
   ]
  },
  {
   "cell_type": "markdown",
   "metadata": {},
   "source": [
    "Start with the first iteration. It will be `'body'` and go down till you reach the key with your data. Here we are looking for the Gitter Javascript. At the end trim the string."
   ]
  },
  {
   "cell_type": "code",
   "execution_count": 75,
   "metadata": {
    "collapsed": false
   },
   "outputs": [
    {
     "name": "stdout",
     "output_type": "stream",
     "text": [
      "1617\n"
     ]
    }
   ],
   "source": [
    "print(data['body']['script'][0]['#text'][2086:2090])"
   ]
  },
  {
   "cell_type": "markdown",
   "metadata": {},
   "source": [
    "This is the number of the current users in our [Gitter chatroom](https://gitter.im/home-assistant/home-assistant).\n",
    "\n",
    "Note that the [`scrap` sensor](https://home-assistant.io/components/sensor.scrap/) is doing a search in the whole directory. Thus we would go directly for `['#text']`."
   ]
  },
  {
   "cell_type": "markdown",
   "metadata": {},
   "source": [
    "### Send the value to the Home Assistant frontend\n",
    "The [\"Using the Home Assistant Python API\"](http://nbviewer.jupyter.org/github/home-assistant/home-assistant-notebooks/blob/master/home-assistant-python-api.ipynb) notebooks contains an intro to the [Python API](https://home-assistant.io/developers/python_api/) of Home Assistant and Jupyther notebooks. Here we are sending the scrapped value to the Home Assistant frontend."
   ]
  },
  {
   "cell_type": "code",
   "execution_count": 76,
   "metadata": {
    "collapsed": true
   },
   "outputs": [],
   "source": [
    "import homeassistant.remote as remote\n",
    "\n",
    "HOST = '127.0.0.1'\n",
    "PASSWORD = 'YOUR_PASSWORD'\n",
    "\n",
    "api = remote.API(HOST, PASSWORD)"
   ]
  },
  {
   "cell_type": "code",
   "execution_count": 77,
   "metadata": {
    "collapsed": false
   },
   "outputs": [
    {
     "data": {
      "text/plain": [
       "True"
      ]
     },
     "execution_count": 77,
     "metadata": {},
     "output_type": "execute_result"
    }
   ],
   "source": [
    "new_state = data['body']['script'][0]['#text'][2086:2090]\n",
    "attributes = {\n",
    "  \"friendly_name\": \"Gitter Users\",\n",
    "  \"unit_of_measurement\": \"Count\"\n",
    "}\n",
    "remote.set_state(api, 'sensor.gitter_users', new_state=new_state, attributes=attributes)"
   ]
  }
 ],
 "metadata": {
  "kernelspec": {
   "display_name": "Python 3",
   "language": "python",
   "name": "python3"
  },
  "language_info": {
   "codemirror_mode": {
    "name": "ipython",
    "version": 3
   },
   "file_extension": ".py",
   "mimetype": "text/x-python",
   "name": "python",
   "nbconvert_exporter": "python",
   "pygments_lexer": "ipython3",
   "version": "3.5.1"
  }
 },
 "nbformat": 4,
 "nbformat_minor": 1
}
