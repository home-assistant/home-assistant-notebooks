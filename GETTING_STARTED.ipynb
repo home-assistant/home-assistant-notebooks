{
 "cells": [
  {
   "cell_type": "markdown",
   "metadata": {},
   "source": [
    "# Exploring your Home Assistant data\n",
    "\n",
    "The goal of this page is to get you familiar with the data in your Home Assistant instance. The page you're reading right now is a Jupyter Notebook. These documents contain instructions for the user and embedded Python code to generate graphs and tables of your data. It's interactive so you can at any time change the code of any example and just press the ▶️ button to update the example with your changes! \n",
    "\n",
    "To get started, let's execute all examples on this page: in the menu at the top left, click on \"Run\" -> \"Run All Cells\"."
   ]
  },
  {
   "cell_type": "code",
   "execution_count": null,
   "metadata": {},
   "outputs": [],
   "source": [
    "from detective.core import db_from_hass_config\n",
    "db = db_from_hass_config()"
   ]
  },
  {
   "cell_type": "markdown",
   "metadata": {},
   "source": [
    "## Popular entities\n",
    "\n",
    "In the following example, we're going to explore your most popular entities and break it down per period of the day (morning/afternoon/evening/night).\n",
    "\n",
    "We will do this by looking at which services are getting called and which entities they targeted. To make the results more relevant, we will filter out any service call that happened because of another service call. So if a user turns on a script which turns on a light, we only count the interaction with the script and not with the light."
   ]
  },
  {
   "cell_type": "code",
   "execution_count": null,
   "metadata": {},
   "outputs": [],
   "source": [
    "from collections import Counter, OrderedDict\n",
    "import json\n",
    "\n",
    "from detective.time import time_category, sqlalch_datetime, localize, TIME_CATEGORIES\n",
    "\n",
    "# Prepare a dictionary to track results\n",
    "results = OrderedDict((time_cat, Counter()) for time_cat in TIME_CATEGORIES)\n",
    "\n",
    "# We keep track of contexts that we processed so that we will only process\n",
    "# the first service call in a context, and not subsequent calls.\n",
    "context_processed = set()\n",
    "\n",
    "for event in db.perform_query(\"SELECT * FROM events WHERE event_type = 'call_service' ORDER BY time_fired\"):\n",
    "    entity_ids = None\n",
    "\n",
    "    # Skip if we have already processed an event that was part of this context\n",
    "    if event.context_id in context_processed:\n",
    "        continue\n",
    "\n",
    "    try:\n",
    "        event_data = json.loads(event.event_data)\n",
    "    except ValueError:\n",
    "        continue\n",
    "\n",
    "    # Empty event data, skipping (shouldn't happen, but to be safe)\n",
    "    if not event_data:\n",
    "        continue\n",
    "\n",
    "    service_data = event_data.get('service_data')\n",
    "\n",
    "    # No service data found, skipping\n",
    "    if not service_data:\n",
    "        continue\n",
    "\n",
    "    entity_ids = service_data.get('entity_id')\n",
    "\n",
    "    # No entitiy IDs found, skip this event\n",
    "    if entity_ids is None:\n",
    "        continue\n",
    "\n",
    "    if not isinstance(entity_ids, list):\n",
    "        entity_ids = [entity_ids]\n",
    "\n",
    "    context_processed.add(event.context_id)\n",
    "\n",
    "    period = time_category(\n",
    "        localize(sqlalch_datetime(event.time_fired)))\n",
    "\n",
    "    for entity_id in entity_ids:\n",
    "        results[period][entity_id] += 1\n",
    "\n",
    "print(\"Most popular entities to interact with:\")\n",
    "\n",
    "RESULTS_TO_SHOW = 5\n",
    "\n",
    "for period, period_results in results.items():\n",
    "    print()\n",
    "    \n",
    "    entities = [\n",
    "        ent_id for (ent_id, count)\n",
    "        in period_results.most_common(RESULTS_TO_SHOW)\n",
    "    ]\n",
    "    \n",
    "    result = ', '.join(entities) if entities else '-'\n",
    "    print(f\"{period.capitalize()}: {result}\")"
   ]
  },
  {
   "cell_type": "markdown",
   "metadata": {},
   "source": [
    "### Next up\n",
    "\n",
    "Let's now use pandas to visualise the results."
   ]
  },
  {
   "cell_type": "code",
   "execution_count": null,
   "metadata": {},
   "outputs": [],
   "source": [
    "import pandas as pd\n",
    "df = pd.DataFrame.from_dict(results).fillna(0)\n",
    "df"
   ]
  },
  {
   "cell_type": "markdown",
   "metadata": {},
   "source": [
    "## View states\n",
    "Detective makes it easy to view your state data as a pandas dataframe."
   ]
  },
  {
   "cell_type": "code",
   "execution_count": null,
   "metadata": {},
   "outputs": [],
   "source": [
    "%%time\n",
    "\n",
    "db.fetch_all_data()"
   ]
  },
  {
   "cell_type": "markdown",
   "metadata": {},
   "source": [
    "We now have the raw data in a Pandas dataframe on the `master_df` attribute of our `db` object. We must use another class to process this data into a format suitable for plotting. Detective provides helper classes for working with numerical senor data and binary sensor data. \n",
    "\n",
    "Lets first assert that you have data in each class:"
   ]
  },
  {
   "cell_type": "code",
   "execution_count": null,
   "metadata": {},
   "outputs": [],
   "source": [
    "assert 'binary_sensor' and 'sensor' in db.domains"
   ]
  },
  {
   "cell_type": "markdown",
   "metadata": {},
   "source": [
    "If you received an `AssertionError` on the above cell, some of the following may not work for you.\n",
    "\n",
    "Assuming no error was raised, let's splot some numerical sensor data."
   ]
  },
  {
   "cell_type": "code",
   "execution_count": null,
   "metadata": {},
   "outputs": [],
   "source": [
    "db.entities.get('sensor')"
   ]
  },
  {
   "cell_type": "code",
   "execution_count": null,
   "metadata": {},
   "outputs": [],
   "source": [
    "from detective.core import NumericalSensors\n",
    "\n",
    "numerical_sensors = NumericalSensors(db.master_df)"
   ]
  },
  {
   "cell_type": "markdown",
   "metadata": {},
   "source": [
    "You can quickly see what numerical entities are available:"
   ]
  },
  {
   "cell_type": "code",
   "execution_count": null,
   "metadata": {},
   "outputs": [],
   "source": [
    "numerical_sensors.entities"
   ]
  },
  {
   "cell_type": "markdown",
   "metadata": {},
   "source": [
    "We can access the numerical data as a pandas dataframe on the `data` attribute and print out the first couple of rows of data."
   ]
  },
  {
   "cell_type": "code",
   "execution_count": null,
   "metadata": {},
   "outputs": [],
   "source": [
    "numerical_sensors.data.head()"
   ]
  },
  {
   "cell_type": "markdown",
   "metadata": {},
   "source": [
    "Let's plot a random numerical sensor."
   ]
  },
  {
   "cell_type": "code",
   "execution_count": null,
   "metadata": {},
   "outputs": [],
   "source": [
    "import random\n",
    "\n",
    "if numerical_sensors.entities:\n",
    "    numerical_sensors.plot(random.choice(numerical_sensors.entities))"
   ]
  },
  {
   "cell_type": "markdown",
   "metadata": {},
   "source": [
    "Let's now plot data of a binary sensor:"
   ]
  },
  {
   "cell_type": "code",
   "execution_count": null,
   "metadata": {},
   "outputs": [],
   "source": [
    "from detective.core import BinarySensors\n",
    "\n",
    "binary_sensors = BinarySensors(db.master_df)"
   ]
  },
  {
   "cell_type": "code",
   "execution_count": null,
   "metadata": {},
   "outputs": [],
   "source": [
    "binary_sensors.entities"
   ]
  },
  {
   "cell_type": "code",
   "execution_count": null,
   "metadata": {},
   "outputs": [],
   "source": [
    "if binary_sensors.entities:\n",
    "    binary_sensors.plot(random.choice(binary_sensors.entities))"
   ]
  },
  {
   "cell_type": "markdown",
   "metadata": {},
   "source": [
    "That concludes our introduction to getting started with Home Assistant data."
   ]
  }
 ],
 "metadata": {
  "kernelspec": {
   "display_name": "Python 3",
   "language": "python",
   "name": "python3"
  },
  "language_info": {
   "codemirror_mode": {
    "name": "ipython",
    "version": 3
   },
   "file_extension": ".py",
   "mimetype": "text/x-python",
   "name": "python",
   "nbconvert_exporter": "python",
   "pygments_lexer": "ipython3",
   "version": "3.7.1"
  }
 },
 "nbformat": 4,
 "nbformat_minor": 2
}
